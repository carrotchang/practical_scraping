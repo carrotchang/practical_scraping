{
 "cells": [
  {
   "cell_type": "markdown",
   "metadata": {},
   "source": [
    "# เยอะเกิ๊นนน ทำ regex ไม่ไหว\n",
    "* ตัวอย่าง: http://www.erc.or.th/ERCSPP/ListViewDetail.aspx?RowID=12098\n",
    "* ถ้ามี field ข้อมูลเยอะมาก จะนั่งเขียน regex ให้แต่ละ field ก็ไม่ไหวนะ"
   ]
  },
  {
   "cell_type": "code",
   "execution_count": 10,
   "metadata": {},
   "outputs": [
    {
     "name": "stdout",
     "output_type": "stream",
     "text": [
      "200\n"
     ]
    }
   ],
   "source": [
    "import requests\n",
    "r = requests.get('http://www.erc.or.th/ERCSPP/ListViewDetail.aspx?RowID=12098')\n",
    "print(r.status_code)"
   ]
  },
  {
   "cell_type": "code",
   "execution_count": 28,
   "metadata": {},
   "outputs": [
    {
     "data": {
      "text/plain": [
       "'\\r\\n\\r\\n<!DOCTYPE html PUBLIC \"-//W3C//DTD XHTML 1.0 Transitional//EN\" \"http://www.w3.org/TR/xhtml1/DTD/xhtml1-transitional.dtd\">\\r\\n\\r\\n<html xmlns=\"http://www.w3.org/1999/xhtml\">\\r\\n<head id=\"ctl00_Head1\"><meta http-equiv=\"X-UA-Compatible\" content=\"IE=9\" /><title>\\r\\n\\tERC - สกพ. - ระบบฐานข้อมูล SPP/VSPP\\r\\n</title><link rel=\"apple-touch-icon\" href=\"img/ERC_Logo SPP.jpg\" /><meta http-equiv=\"Content-Language\" content=\"th\" /><meta http-equiv=\"content-Type\" content=\"text/html; charset=window-874\" /><meta http-equiv=\"content-Type\" content=\"text/html; charset=tis-620\" /><meta name=\"description\" /><meta name=\"keywords\" />\\r\\n    <style type=\"text/css\">\\r\\n\\r\\n.black-ribbon {\\r\\n  position: fixed;\\r\\n  z-index: 9999;\\r\\n  width: 100px;\\r\\n}\\r\\n@media only all and (min-width: 768px) {\\r\\n  .black-ribbon {\\r\\n    width: auto;\\r\\n  }\\r\\n}\\r\\n.stick-left { left: 0; }\\r\\n.stick-right { right: 0; }\\r\\n.stick-top { top: 0; }\\r\\n.stick-bottom { bottom: 0; }\\r\\n\\r\\nhtml {\\r\\n # filter: grayscale(100%);\\r\\n # -o-filter: grayscale(100%);\\r\\n # -moz-filter: grayscale(100%);\\r\\n # -webkit-filter: grayscale(100%);\\r\\n # filter: gray;\\r\\n}\\r\\n</style>\\r\\n    <link rel=\"Stylesheet\" type=\"text/css\" href=\"_Common/css/Style.css\" /><link rel=\"shortcut icon\" type=\"images/ico\" href=\"favicon.ico\" />\\r\\n    <!--[if IE 6]><![endif]-->\\r\\n    <link rel=\"stylesheet\" href=\"css/main.css\" type=\"text/css\" media=\"screen, projection\" />\\r\\n    <!--[if IE]>\\r\\n<link rel=\"stylesheet\" href=\"css/win-ie-all.css\" type=\"text/css\" media=\"screen, projection\" />\\r\\n<![endif]-->\\r\\n    <!--[if IE 7]>\\r\\n<link rel=\"stylesheet\" href=\"css/win-ie7.css\" type=\"text/css\" media=\"screen, projection\" />\\r\\n<![endif]-->\\r\\n    <!--[if lt IE 7]>\\r\\n<link rel=\"stylesheet\" href=\"css/win-ie6-below.css\" type=\"text/css\" media=\"screen, projection\" />\\r\\n<![endif]-->\\r\\n    \\r\\n    <style type=\"text/css\">\\r\\n        .auto-style1 {\\r\\n            font-family: Tahoma;\\r\\n            font-size: 13px;\\r\\n            color : #000000;\\r\\n            background-color: #f4f6f7;\\r\\n            height: 25px;\\r\\n        }\\r\\n    </style>\\r\\n<link href=\"/ERCSPP/WebResource.axd?d=VMA4XZ_2Xtm1tSsGytIaJIVlDMEhrgIr98y7mvxoAy7_LUAd1xsA0ni9UaH2586qQJaeNdQ8NuOtrOYgB5l4ALC3tayWipDkJEwbf7QVG9tQNiS1DnIjXxeg2mudo62VCMMfKA2&amp;t=634459775283064261\" type=\"text/css\" rel=\"stylesheet\" class=\"Telerik_stylesheet\" /></head>\\r\\n<body id=\"bodyid\">\\r\\n    <form name=\"aspnetForm\" method=\"post\" action=\"ListViewDetail.aspx?RowID=12098\" id=\"aspnetForm\">\\r\\n<input type=\"hidden\" name=\"ctl00_RadScriptManager1_TSM\" id=\"ctl00_RadScriptManager1_TSM\" value=\"\" />\\r\\n<input type=\"hidden\" name=\"__VIEWSTATE\" id=\"__VIEWSTATE\" value=\"/wEPDwUJMTU0MzI4MzMxD2QWAmYPZBYCAgQPZBYEAgEPDxYCHhdFbmFibGVBamF4U2tpblJlbmRlcmluZ2hkZAICD2QWHAILDw8WAh4EVGV4dAUDU1BQZGQCEQ8PFgIfAQVb4Lia4Lij4Li04Lip4Lix4LiXIOC4geC4pOC4qeC4k+C4siDguKfguLTguJnguJTguYwg4Lie4Liy4Lin4LmA4Lin4Lit4Lij4LmMIOC4iOC4s+C4geC4seC4lGRkAhcPDxYCHwEFgwHguK0u4LiU4LmI4Liy4LiZ4LiC4Li44LiZ4LiX4LiUIOC5geC4peC4sCDguK0u4Liq4Li14LiE4Li04LmJ4LinIOC4rS7guJTguYjguLLguJnguILguLjguJnguJfguJQg4LiILuC4meC4hOC4o+C4o+C4suC4iuC4quC4teC4oeC4smRkAh0PDxYCHwEFKuC5guC4o+C4h+C5hOC4n+C4n+C5ieC4suC4nuC4peC4seC4h+C4peC4oWRkAiMPDxYCHwEFBFdpbmRkZAIpDw8WAh8BBQc5NC41MDAwZGQCLw8PFgIfAQUHOTAuMDAwMGRkAjcPDxYCHwEFCjI0LzA1LzI1NTVkZAI9Dw8WAh8BBQoxNy8wNC8yNTU2ZGQCPw8QDxYCHgdDaGVja2VkaGRkZGQCRw8PFgIfAQUKMTYvMDcvMjU1N2RkAlMPDxYCHwEFCjMwLzAzLzI1NjFkZAJ/Dw8WBB4JRm9yZUNvbG9yCiMeBF8hU0ICBGRkAoEBDw8WBh8BBTTguYDguIvguYfguJkgUFBBIOC5geC4peC5ieC4pyDguKLguLHguIfguYTguKHguYggQ09EHwMKIx8EAgRkZGTbPckBobmKt0+DalxbJAp54uCvNg==\" />\\r\\n\\r\\n\\r\\n<script src=\"/ERCSPP/Telerik.Web.UI.WebResource.axd?_TSM_HiddenField_=ctl00_RadScriptManager1_TSM&amp;compress=1&amp;_TSM_CombinedScripts_=%3b%3bSystem.Web.Extensions%2c+Version%3d3.5.0.0%2c+Culture%3dneutral%2c+PublicKeyToken%3d31bf3856ad364e35%3ath-TH%3a25f23ad5-9eec-4de7-a92d-14f140ae0b8d%3aea597d4b%3bTelerik.Web.UI%2c+Version%3d2010.2.1015.35%2c+Culture%3dneutral%2c+PublicKeyToken%3d121fae78165ba3d4%3ath-TH%3a43856064-42e8-45d2-8518-ccc453122401%3a16e4e7cd%3af7645509%3aed16cbdc\" type=\"text/javascript\"></script>\\r\\n<script type=\"text/javascript\">\\r\\n//<![CDATA[\\r\\nif (typeof(Sys) === \\'undefined\\') throw new Error(\\'ASP.NET Ajax client-side framework failed to load.\\');\\r\\n//]]>\\r\\n</script>\\r\\n\\r\\n<input type=\"hidden\" name=\"__VIEWSTATEGENERATOR\" id=\"__VIEWSTATEGENERATOR\" value=\"0FA05CD7\" />\\r\\n<input type=\"hidden\" name=\"__EVENTVALIDATION\" id=\"__EVENTVALIDATION\" value=\"/wEWAwLBgfLCBgKakbr0AwKV4aS+BHfORur33tZkj0cX21Br4ZU0F5cm\" />\\r\\n<!--<img src=\"http://www.erc.or.th/ERCWeb2/images/black_ribbon_top_left.png\" class=\"black-ribbon stick-top stick-left\"/>-->\\r\\n    \\r\\n    <div id=\"ctl00_RadAjaxLoadingPanel1\" style=\"display:none;height:75px;width:75px;\">\\r\\n\\t\\r\\n        <img alt=\"Loading...\" src=\\'/ERCSPP/WebResource.axd?d=Jx_i6F6WWToXd6ybUpj3NARDvBU6K1ibnoGHhClQJYk05-RsM_AHrAkKOCmhNwHXO53pHa_7u-wzbrW5-2YhudBfOD6F_mbW28joaoPG3YiTROagfivbVKueLnll2qMYSzJMSZqqnBi0GQBgwBOmXXnezO41&amp;t=634459775283064261\\'\\r\\n            style=\"border: 0px;\" />\\r\\n    \\r\\n</div>\\r\\n    <div id=\"page\" class=\"sc-contact\">\\r\\n        <table cellpadding=\"0\" cellspacing=\"0\" align=\"center\">\\r\\n            <tr>\\r\\n                <td>\\r\\n                    <div id=\"masthead\">\\r\\n                        <a href=\"/ERCSPP/Default.aspx\">\\r\\n                            <img src=\"img/logo-all.png\" alt=\"SPP_VSPP_DB\" border=\"0\" /></a>\\r\\n                    </div>\\r\\n                    <!-- /end #masthead -->\\r\\n                </td>\\r\\n                <td>\\r\\n                    <ul id=\"nav\">\\r\\n                        <li class=\"home\"><a href=\"/ERCSPP/Default.aspx\"><strong>หน้าหลัก</strong>\\r\\n                            ฐานข้อมูล SPP/VSPP</a></li>\\r\\n                        <!--   <li class=\"home\"><a href=\"/ERCSPP/MPage.aspx\"><strong>หน้าหลัก</strong> ฐานข้อมูล SPP/VSPP</a></li> -->\\r\\n                        <li class=\"backoffice\"><a href=\"/ERCSPP/ERCSPP_MasterData/P00_RequesterInfoShowAll.aspx\">\\r\\n                            <strong>สำหรับเจ้าหน้าที่</strong> จัดการข้อมูล </a></li>\\r\\n                    </ul>\\r\\n                </td>\\r\\n            </tr>\\r\\n        </table>\\r\\n        <div id=\"content\">\\r\\n            \\r\\n    \\r\\n    <table width=\"100%\" border=\"0\" class=\"bgCellMasterTopic\" cellpadding=\"0\" cellspacing=\"0\">\\r\\n        <tr>\\r\\n            <td class=\"bgCellNormal\" align=\"left\" width=\"70%\">\\r\\n                <input type=\"submit\" name=\"ctl00$ContentPlaceHolder1$btnBack\" value=\"กลับหน้าหลัก\" id=\"ctl00_ContentPlaceHolder1_btnBack\" class=\"AddButton\" />\\r\\n            </td>\\r\\n            <td class=\"bgCellNormal\" align=\"right\" width=\"30%\">\\r\\n                \\r\\n            </td>\\r\\n        </tr>\\r\\n    </table>\\r\\n    <table width=\"100%\" height=\"80px\" border=\"0\" class=\"bgTable\" cellpadding=\"0\" cellspacing=\"1\">\\r\\n        <tr>\\r\\n            <td colspan=\"2\" class=\"FontWhiteHeader\">\\r\\n                <span id=\"ctl00_ContentPlaceHolder1_lblTopic\">ฐานข้อมูลผู้ขอจำหน่ายไฟฟ้า</span>\\r\\n            </td>\\r\\n        </tr>\\r\\n        <tr>\\r\\n            <td class=\"bgCellNormal\" width=\"250px\">\\r\\n                <img id=\"ctl00_ContentPlaceHolder1_Image1\" src=\"Asset/Images/Icons/Misc/orangeDots.gif\" border=\"0\" />\\r\\n                &nbsp;<span id=\"ctl00_ContentPlaceHolder1_Label1\">ประเภทผู้ขอจำหน่ายไฟฟ้า</span></td>\\r\\n            <td class=\"bgCellInput\">\\r\\n                &nbsp;<span id=\"ctl00_ContentPlaceHolder1_lblPowerPlantType\">SPP</span></td>\\r\\n        </tr>\\r\\n        <tr>\\r\\n            <td class=\"bgCellNormal\">\\r\\n                <img id=\"ctl00_ContentPlaceHolder1_Image2\" src=\"Asset/Images/Icons/Misc/orangeDots.gif\" border=\"0\" />\\r\\n                &nbsp;<span id=\"ctl00_ContentPlaceHolder1_Label2\">บริษัท / บุคคล</span></td>\\r\\n            <td class=\"bgCellInput\">\\r\\n                &nbsp;<span id=\"ctl00_ContentPlaceHolder1_lblCompany_Personel\">บริษัท กฤษณา วินด์ พาวเวอร์ จำกัด</span></td>\\r\\n        </tr>\\r\\n        <tr>\\r\\n            <td class=\"bgCellNormal\">\\r\\n                <img id=\"ctl00_ContentPlaceHolder1_Image3\" src=\"Asset/Images/Icons/Misc/orangeDots.gif\" border=\"0\" />\\r\\n                &nbsp;<span id=\"ctl00_ContentPlaceHolder1_Label5\">ที่อยู่</span></td>\\r\\n            <td class=\"bgCellInput\">\\r\\n                &nbsp;<span id=\"ctl00_ContentPlaceHolder1_lblAddress\">อ.ด่านขุนทด และ อ.สีคิ้ว อ.ด่านขุนทด จ.นครราชสีมา</span></td>\\r\\n        </tr>\\r\\n        <tr>\\r\\n            <td class=\"bgCellNormal\">\\r\\n                <img id=\"ctl00_ContentPlaceHolder1_Image4\" src=\"Asset/Images/Icons/Misc/orangeDots.gif\" border=\"0\" />\\r\\n                &nbsp;<span id=\"ctl00_ContentPlaceHolder1_Label7\">ประเภทโรงไฟฟ้า</span></td>\\r\\n            <td class=\"bgCellInput\">\\r\\n                &nbsp;<span id=\"ctl00_ContentPlaceHolder1_lblPlantTypeName\">โรงไฟฟ้าพลังลม</span></td>\\r\\n        </tr>\\r\\n        <tr>\\r\\n            <td class=\"bgCellNormal\">\\r\\n                <img id=\"ctl00_ContentPlaceHolder1_Image6\" src=\"Asset/Images/Icons/Misc/orangeDots.gif\" border=\"0\" />\\r\\n                &nbsp;<span id=\"ctl00_ContentPlaceHolder1_Label11\">ประเภทเชื้อเพลิง</span></td>\\r\\n            <td class=\"bgCellInput\">\\r\\n                &nbsp;<span id=\"ctl00_ContentPlaceHolder1_lblFuelTypeName\">Wind</span></td>\\r\\n        </tr>\\r\\n        <tr>\\r\\n            <td class=\"bgCellNormal\">\\r\\n                <img id=\"ctl00_ContentPlaceHolder1_Image5\" src=\"Asset/Images/Icons/Misc/orangeDots.gif\" border=\"0\" />\\r\\n                &nbsp;<span id=\"ctl00_ContentPlaceHolder1_Label9\">กำลังการผลิตติดตั้ง (MW)</span></td>\\r\\n            <td class=\"bgCellInput\">\\r\\n                &nbsp;<span id=\"ctl00_ContentPlaceHolder1_lblEXP_MW\">94.5000</span></td>\\r\\n        </tr>\\r\\n        <tr>\\r\\n            <td class=\"bgCellNormal\">\\r\\n                <img id=\"ctl00_ContentPlaceHolder1_Image24\" src=\"Asset/Images/Icons/Misc/orangeDots.gif\" border=\"0\" />\\r\\n                &nbsp;<span id=\"ctl00_ContentPlaceHolder1_Label30\">ปริมาณขายตามสัญญา (MW)</span></td>\\r\\n            <td class=\"bgCellInput\">\\r\\n                 &nbsp;<span id=\"ctl00_ContentPlaceHolder1_lblSale_MW\">90.0000</span></td>\\r\\n        </tr>\\r\\n        <tr>\\r\\n            <td colspan=\"2\" class=\"FontWhiteHeader\">\\r\\n                <span id=\"ctl00_ContentPlaceHolder1_Label15\">สถานะการรับซื้อไฟฟ้า (วัน/เดือน/ปี)</span>\\r\\n            </td>\\r\\n        </tr>\\r\\n        <tr>\\r\\n            <td class=\"bgCellNormal\">\\r\\n                <img id=\"ctl00_ContentPlaceHolder1_Image7\" src=\"Asset/Images/Icons/Misc/orangeDots.gif\" border=\"0\" />\\r\\n                &nbsp;<span id=\"ctl00_ContentPlaceHolder1_Label13\">วันที่ยื่นคำขอ</span></td>\\r\\n            <td class=\"bgCellInput\">\\r\\n                &nbsp;<span id=\"ctl00_ContentPlaceHolder1_lblApplicationDate\">24/05/2555</span></td>\\r\\n        </tr>\\r\\n        <tr>\\r\\n            <td class=\"bgCellNormal\">\\r\\n                <img id=\"ctl00_ContentPlaceHolder1_Image9\" src=\"Asset/Images/Icons/Misc/orangeDots.gif\" border=\"0\" />\\r\\n                &nbsp;<span id=\"ctl00_ContentPlaceHolder1_Label17\">วันที่พิจารณาคำขอ</span></td>\\r\\n            <td class=\"bgCellInput\">\\r\\n                &nbsp;<span id=\"ctl00_ContentPlaceHolder1_lblAcceptDate\">17/04/2556</span>\\r\\n                &nbsp;<span disabled=\"disabled\"><input id=\"ctl00_ContentPlaceHolder1_chkIsRequestDenied\" type=\"checkbox\" name=\"ctl00$ContentPlaceHolder1$chkIsRequestDenied\" disabled=\"disabled\" /><label for=\"ctl00_ContentPlaceHolder1_chkIsRequestDenied\">ปฏิเสธ</label></span>\\r\\n                &nbsp;\\r\\n                <span id=\"ctl00_ContentPlaceHolder1_Label31\"></span>\\r\\n                </td>\\r\\n        </tr>\\r\\n        <tr>\\r\\n            <td class=\"bgCellNormal\">\\r\\n                <img id=\"ctl00_ContentPlaceHolder1_Image10\" src=\"Asset/Images/Icons/Misc/orangeDots.gif\" border=\"0\" />\\r\\n                &nbsp;<span id=\"ctl00_ContentPlaceHolder1_Label19\">วันที่ลงนามสัญญา</span></td>\\r\\n            <td class=\"bgCellInput\">\\r\\n                &nbsp;<span id=\"ctl00_ContentPlaceHolder1_lblSignDate\">16/07/2557</span></td>\\r\\n        </tr>\\r\\n        <tr>\\r\\n            <td class=\"auto-style1\">\\r\\n                <img id=\"ctl00_ContentPlaceHolder1_Image11\" src=\"Asset/Images/Icons/Misc/orangeDots.gif\" border=\"0\" />\\r\\n                &nbsp;<span id=\"ctl00_ContentPlaceHolder1_Label21\">เลขที่สัญญา</span></td>\\r\\n            <td class=\"bgCellInput\">\\r\\n                &nbsp;<span id=\"ctl00_ContentPlaceHolder1_lblSignNumber\"></span></td>\\r\\n        </tr>\\r\\n        <tr>\\r\\n            <td class=\"bgCellNormal\">\\r\\n                <img id=\"ctl00_ContentPlaceHolder1_Image12\" src=\"Asset/Images/Icons/Misc/orangeDots.gif\" border=\"0\" />\\r\\n                &nbsp;<span id=\"ctl00_ContentPlaceHolder1_Label23\">SCOD ตามสัญญา</span></td>\\r\\n            <td class=\"bgCellInput\">\\r\\n                &nbsp;<span id=\"ctl00_ContentPlaceHolder1_lblSCOD\">30/03/2561</span></td>\\r\\n        </tr>\\r\\n        \\r\\n        \\r\\n        \\r\\n        \\r\\n        \\r\\n        \\r\\n        \\r\\n        \\r\\n        \\r\\n        \\r\\n        <tr  >\\r\\n            <td class=\"bgCellNormal\">\\r\\n                <img id=\"ctl00_ContentPlaceHolder1_Image14\" src=\"Asset/Images/Icons/Misc/orangeDots.gif\" border=\"0\" />\\r\\n                &nbsp;<span id=\"ctl00_ContentPlaceHolder1_Label27\">COD แล้ว</span></td>\\r\\n            <td class=\"bgCellInput\">\\r\\n                &nbsp;<span id=\"ctl00_ContentPlaceHolder1_lblCOD\"></span></td>\\r\\n        </tr>\\r\\n        <tr>\\r\\n            <td class=\"bgCellNormal\">\\r\\n                <img id=\"ctl00_ContentPlaceHolder1_Image15\" src=\"Asset/Images/Icons/Misc/orangeDots.gif\" border=\"0\" />\\r\\n                &nbsp;<span id=\"ctl00_ContentPlaceHolder1_Label29\">วันที่ยกเลิกคำร้อง</span></td>\\r\\n            <td class=\"bgCellInput\">\\r\\n                &nbsp;<span id=\"ctl00_ContentPlaceHolder1_lblCancelRequestDate\"></span></td>\\r\\n        </tr>\\r\\n        <tr>\\r\\n            <td class=\"bgCellNormal\">\\r\\n                <img id=\"ctl00_ContentPlaceHolder1_Image25\" src=\"Asset/Images/Icons/Misc/orangeDots.gif\" border=\"0\" />\\r\\n                &nbsp;วันที่ยกเลิกตอบรับซื้อ</td>\\r\\n            <td class=\"bgCellInput\">\\r\\n                &nbsp;<span id=\"ctl00_ContentPlaceHolder1_lblCancelAcceptedDate\"></span></td>\\r\\n        </tr>\\r\\n        <tr>\\r\\n            <td class=\"bgCellNormal\">\\r\\n                <img id=\"ctl00_ContentPlaceHolder1_Image26\" src=\"Asset/Images/Icons/Misc/orangeDots.gif\" border=\"0\" />\\r\\n                &nbsp;วันที่ยกเลิกสัญญา</td>\\r\\n            <td class=\"bgCellInput\">\\r\\n                &nbsp;<span id=\"ctl00_ContentPlaceHolder1_lblCancelContractDate\"></span></td>\\r\\n        </tr>\\r\\n        <tr>\\r\\n            <td class=\"bgCellNormal\">\\r\\n                <img id=\"ctl00_ContentPlaceHolder1_Image27\" src=\"Asset/Images/Icons/Misc/orangeDots.gif\" border=\"0\" />\\r\\n                &nbsp;\\r\\n                <span id=\"ctl00_ContentPlaceHolder1_lblStatusText\"><font color=\"Black\">สถานะ</font></span>    \\r\\n            </td>\\r\\n            <td class=\"bgCellInput\">\\r\\n                &nbsp;<span id=\"ctl00_ContentPlaceHolder1_lblStatusText2\"><font color=\"Black\">เซ็น PPA แล้ว ยังไม่ COD</font></span></td>\\r\\n        </tr>\\r\\n    </table>\\r\\n\\r\\n            <!-- /end #intel -->\\r\\n        </div>\\r\\n        <!-- /end #content -->\\r\\n        <!-- footer -->\\r\\n         <table width=\"100%\" border=\"0\" class=\"bgTable\" cellpadding=\"0\" cellspacing=\"0\">\\r\\n                <tr>\\r\\n                    <td align=\"center\" class=\"FontWhiteHeader\">\\r\\n                   <table width=\"780\" border=\"0\" class=\"bgTable\" cellpadding=\"5\" cellspacing=\"3\">\\r\\n\\t\\t\\t\\t   <tr>\\r\\n\\t\\t\\t\\t   <td style=\"border-bottom: 1px dotted #666666;border-top: 1px dotted #666666;\">ฐานข้อมูลนี้จัดทำขึ้น เพื่อความสะดวกแก่บุคคลทั่วไป ซึ่งเป็นเพียงฐานข้อมูลเบื้องต้น<br />\\r\\n                        และไม่มีผลบังคับใช้ทางกฎหมายหากต้องการทราบข้อมูลเพิ่มเติมสามารถติดต่อได้ที่ <br />\\r\\n\\t\\t\\t\\t   </td>\\r\\n\\t\\t\\t\\t   </tr>\\r\\n\\t\\t\\t\\t    <tr>\\r\\n\\t\\t\\t\\t   <td>- การไฟฟ้าฝ่ายผลิตแห่งประเทศไทย  ฝ่ายสัญญาซื้อขายไฟฟ้า โทร : 02 436 2875, 02 436 2879\\r\\n\\t\\t\\t\\t     </td>\\r\\n\\t\\t\\t\\t   </tr>\\r\\n\\t\\t\\t\\t    </tr>\\r\\n\\t\\t\\t\\t    <tr>\\r\\n\\t\\t\\t\\t   <td>- การไฟฟ้านครหลวง  ฝ่ายเศรษฐกิจพลังไฟฟ้า โทร : 02 220 5774\\r\\n\\t\\t\\t\\t     </td>\\r\\n\\t\\t\\t\\t   </tr>\\r\\n\\t\\t\\t\\t    </tr>\\r\\n\\t\\t\\t\\t    <tr>\\r\\n\\t\\t\\t\\t   <td>- การไฟฟ้าส่วนภูมิภาค  กองวางแผนแหล่งผลิตไฟฟ้าขนาดเล็ก โทร : 02 590 9907\\r\\n\\t\\t\\t\\t     </td>\\r\\n\\t\\t\\t\\t   </tr>\\r\\n\\t\\t\\t\\t   </table>\\r\\n                    </td>\\r\\n                </tr>\\r\\n            </table>\\r\\n        <div id=\"footer\">\\r\\n            <table width=\"100%\" border=\"0\" cellpadding=\"0\" cellspacing=\"0\">\\r\\n                <tr>\\r\\n                    <td align=\"center\">\\r\\n                        <table border=\"0\" cellpadding=\"0\" cellspacing=\"0\">\\r\\n                            <tr>\\r\\n                                <td align=\"left\">\\r\\n                                    <table border=\"0\" cellspacing=\"0\" cellpadding=\"0\">\\r\\n                                        <tbody>\\r\\n                                            <tr>\\r\\n                                                <td>\\r\\n                                                    <br />\\r\\n                                                    <span style=\"font-size: 11px; color: #999999;\">สงวนสิทธิ์ 2554 &copy;&nbsp;สำนักงานคณะกรรมการกำกับกิจการพลังงาน\\r\\n                                                        (สำนักงาน กกพ.) | 319 อาคารจัตุรัสจามจุรี ชั้น 19 ถนนพญาไท แขวงปทุมวัน เขตปทุมวัน\\r\\n                                                        กรุงเทพฯ 10330\\r\\n                                                        <br />\\r\\n                                                        โทร : 0 2207 3599 , โทรสาร : 0 2207 3502 , 0 2207 3508 , Call Center : 1204</span><span\\r\\n                                                            style=\"color: #999999; font-size: 11px;\">&nbsp;| อีเมล์ :&nbsp;</span><a href=\"mailto:support@erc.or.th\"><span\\r\\n                                                                style=\"font-size: 11px; color: #e36c09;\">support@erc.or.th </span></a>\\r\\n                                                </td>\\r\\n                                                <td>\\r\\n                                                </td>\\r\\n                                            </tr>\\r\\n                                        </tbody>\\r\\n                                    </table>\\r\\n                                </td>\\r\\n                            </tr>\\r\\n                        </table>\\r\\n                    </td>\\r\\n                </tr>\\r\\n            </table>\\r\\n        </div>\\r\\n        <!-- / footer -->\\r\\n    </div>\\r\\n    <!-- /end #page -->\\r\\n    \\r\\n\\r\\n<script type=\"text/javascript\">\\r\\n//<![CDATA[\\r\\nSys.Application.initialize();\\r\\nSys.Application.add_init(function() {\\r\\n    $create(Telerik.Web.UI.RadAjaxLoadingPanel, {\"initialDelayTime\":0,\"isSticky\":false,\"minDisplayTime\":0,\"skin\":\"\",\"transparency\":20,\"uniqueID\":\"ctl00$RadAjaxLoadingPanel1\",\"zIndex\":90000}, null, null, $get(\"ctl00_RadAjaxLoadingPanel1\"));\\r\\n});\\r\\n//]]>\\r\\n</script>\\r\\n</form>\\r\\n</body>\\r\\n</html>\\r\\n'"
      ]
     },
     "execution_count": 28,
     "metadata": {},
     "output_type": "execute_result"
    }
   ],
   "source": [
    "r.text"
   ]
  },
  {
   "cell_type": "markdown",
   "metadata": {},
   "source": [
    "ลองไปทำ regex เล่น ๆ ดูก่อนก็ได้ https://regex101.com/#python\n",
    "\n",
    "(เฉลย ดูที่ https://regex101.com/r/vNMXD7/1)"
   ]
  },
  {
   "cell_type": "markdown",
   "metadata": {},
   "source": [
    "## ถ้าขี้ัเกียจเขียน regex เยอะ ๆ มีสิ่งที่เรียกว่า BeautifulSoup อยู่\n",
    "ไอเดียหลัก คือ ใช้ css class มาเป็นตัวบอกได้ เช่น ในหน้านี้ สังเกตว่า field ข้อมูล จะเป็น class ที่ชื่อว่า `bgCellInput` หมดเลย"
   ]
  },
  {
   "cell_type": "code",
   "execution_count": 11,
   "metadata": {
    "collapsed": true
   },
   "outputs": [],
   "source": [
    "from bs4 import BeautifulSoup\n",
    "soup = BeautifulSoup(r.text, 'html.parser')"
   ]
  },
  {
   "cell_type": "code",
   "execution_count": 29,
   "metadata": {
    "collapsed": true
   },
   "outputs": [],
   "source": [
    "x = soup.find_all(\"td\", class_=\"bgCellInput\")"
   ]
  },
  {
   "cell_type": "code",
   "execution_count": 30,
   "metadata": {},
   "outputs": [
    {
     "name": "stdout",
     "output_type": "stream",
     "text": [
      "1 - SPP\n",
      "2 - บริษัท กฤษณา วินด์ พาวเวอร์ จำกัด\n",
      "3 - อ.ด่านขุนทด และ อ.สีคิ้ว อ.ด่านขุนทด จ.นครราชสีมา\n",
      "4 - โรงไฟฟ้าพลังลม\n",
      "5 - Wind\n",
      "6 - 94.5000\n",
      "7 - 90.0000\n",
      "8 - 24/05/2555\n",
      "9 - 17/04/2556\r\n",
      "                 ปฏิเสธ\n",
      "10 - 16/07/2557\n",
      "11 - \n",
      "12 - 30/03/2561\n",
      "13 - \n",
      "14 - \n",
      "15 - \n",
      "16 - \n",
      "17 - เซ็น PPA แล้ว ยังไม่ COD\n"
     ]
    }
   ],
   "source": [
    "n = 1\n",
    "for i in x:\n",
    "    print(str(n) + \" - \" + i.get_text().strip())\n",
    "    n = n + 1"
   ]
  },
  {
   "cell_type": "code",
   "execution_count": null,
   "metadata": {
    "collapsed": true
   },
   "outputs": [],
   "source": []
  }
 ],
 "metadata": {
  "kernelspec": {
   "display_name": "Python 3",
   "language": "python",
   "name": "python3"
  },
  "language_info": {
   "codemirror_mode": {
    "name": "ipython",
    "version": 3
   },
   "file_extension": ".py",
   "mimetype": "text/x-python",
   "name": "python",
   "nbconvert_exporter": "python",
   "pygments_lexer": "ipython3",
   "version": "3.6.1"
  }
 },
 "nbformat": 4,
 "nbformat_minor": 2
}
