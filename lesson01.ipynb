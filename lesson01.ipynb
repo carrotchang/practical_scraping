{
 "cells": [
  {
   "cell_type": "markdown",
   "metadata": {},
   "source": [
    "# บทเรียนที่ 1: scraping เบื้องต้น"
   ]
  },
  {
   "cell_type": "markdown",
   "metadata": {},
   "source": [
    "## ขั้นตอนการ scrape โดยทั่วไป\n",
    "1. หาข้อมูล ว่าอยู่ตรงไหน และจะดึงมาได้อย่างไร\n",
    "2. ดึงข้อมูลมาเป็น text (HTTP requests)\n",
    "3. ใช้ regular expression หรือ BeautifulSoup ในการแยกข้อมูลที่สนใจออกมา\n",
    "4. สร้าง loop ครอบข้อ 2-3"
   ]
  },
  {
   "cell_type": "markdown",
   "metadata": {},
   "source": [
    "## ข้อมูลโรงพยาบาลรัฐ\n",
    "ข้อมูลโรงพยาบาลทั่วประเทศ ในเว็บ สธ. http://gishealth.moph.go.th/healthmap/gmap.php โดยมีหน้ารายละเอียดต่าง ๆ ในระดับ รพ. ดังนี้\n",
    "* ข้อมูลทั่วไป ที่ตั้ง ผู้บริหาร http://gishealth.moph.go.th/healthmap/info.php\n",
    "* ข้อมูลบุคลากร http://gishealth.moph.go.th/healthmap/infopersonal.php\n",
    "* ข้อมูลแพทย์เฉพาะทาง http://gishealth.moph.go.th/healthmap/infospecialty.php\n",
    "* ข้อมูลสถานที่และเครื่องมือแพทย์ http://gishealth.moph.go.th/healthmap/infoequip.php\n",
    "* ข้อมูลประเภทบริการ http://gishealth.moph.go.th/healthmap/infotype.php\n",
    "* ข้อมูลการให้บริการ http://gishealth.moph.go.th/healthmap/infoservice.php\n",
    "\n",
    "โดยการจะเข้าถึงข้อมูล ต้องมีรหัสโรงพยาบาล 5 หลัก ใส่เป็น maincode เช่น http://gishealth.moph.go.th/healthmap/info.php?maincode=10667"
   ]
  },
  {
   "cell_type": "markdown",
   "metadata": {},
   "source": [
    "## เริ่มจากการทำ HTTP request ก่อน"
   ]
  },
  {
   "cell_type": "code",
   "execution_count": 60,
   "metadata": {},
   "outputs": [
    {
     "name": "stdout",
     "output_type": "stream",
     "text": [
      "200\n"
     ]
    }
   ],
   "source": [
    "import requests\n",
    "r = requests.get('http://gishealth.moph.go.th/healthmap/info.php?maincode=10668')\n",
    "print(r.status_code)\n",
    "# 200 = successful"
   ]
  },
  {
   "cell_type": "code",
   "execution_count": 61,
   "metadata": {},
   "outputs": [
    {
     "data": {
      "text/plain": [
       "'\\ufeff<!DOCTYPE html PUBLIC \"-//W3C//DTD XHTML 1.0 Strict//EN\" \"http://www.w3.org/TR/xhtml1/DTD/xhtml1-strict.dtd\">\\r\\n<html xmlns=\"http://www.w3.org/1999/xhtml\">\\r\\n\\t<head>\\r\\n    <meta http-equiv=\"Content-Type\" content=\"text/html; charset=utf-8\"/>\\r\\n<script type=\"text/javascript\">\\r\\n  var _gaq = _gaq || [];\\r\\n  _gaq.push([\\'_setAccount\\', \\'UA-18733385-1\\']);\\r\\n  _gaq.push([\\'_trackPageview\\']);\\r\\n  (function() {\\r\\n    var ga = document.createElement(\\'script\\'); ga.type = \\'text/javascript\\'; ga.async = true;\\r\\n    ga.src = (\\'https:\\' == document.location.protocol ? \\'https://ssl\\' : \\'http://www\\') + \\'.google-analytics.com/ga.js\\';\\r\\n    var s = document.getElementsByTagName(\\'script\\')[0]; s.parentNode.insertBefore(ga, s);\\r\\n  })();\\r\\n</script>\\r\\n    <title>ระบบสารสนเทศภฺมิศาสตร์ทรัพยากรสุขภาพ  โรงพยาบาลสุรินทร์</title>\\r\\n    <script type=\"text/javascript\" src=\"jquery/jquery-1.3.2.min.js\"></script> \\r\\n\\t<script type=\"text/javascript\" src=\"jquery/jquery.easing.1.3.js\"></script> \\r\\n    <script type=\"text/javascript\" src=\"jquery/jquery.galleryview-1.1.js\"></script> \\r\\n    <script type=\"text/javascript\" src=\"jquery/jquery.timers-1.1.2.js\"></script> \\r\\n     <script type=\"text/javascript\" src=\"js/jquery_slide.js\"></script> \\r\\n\\t<link href=\"css/stylemap.css\" rel=\"stylesheet\" type=\"text/css\">\\r\\n    <script type=\"text/javascript\" src=\"../ckeditor/ckeditor.js\"></script>\\r\\n    <script type=\"text/javascript\">\\r\\n        //<![CDATA[\\r\\n            CKEDITOR.replace( \\'message\\',{\\r\\n\\t\\t\\t  height   : 400,\\r\\n\\t\\t\\twidth    : 400,\\r\\n            } );\\r\\n        //]]>\\r\\n    </script>\\r\\n    <script type=\"text/javascript\" src=\"highslide/highslide-with-gallery.js\"></script>\\r\\n<link rel=\"stylesheet\" type=\"text/css\" href=\"highslide/highslide.css\" />\\r\\n\\r\\n\\t\\t<script type=\"text/javascript\">\\r\\n\\t\\t\\ths.graphicsDir = \\'highslide/graphics/\\';\\r\\n\\t\\t\\ths.align = \\'center\\';\\r\\n\\t\\t\\ths.transitions = [\\'expand\\', \\'crossfade\\'];\\r\\n\\t\\t\\ths.outlineType = \\'glossy-dark\\';\\r\\n\\t\\t\\ths.wrapperClassName = \\'dark\\';\\r\\n\\t\\t\\ths.fadeInOut = true;\\r\\n\\r\\n\\t\\t\\tif (hs.addSlideshow) hs.addSlideshow({\\r\\n\\t\\t\\tinterval: 4000,\\r\\n\\t\\t\\trepeat: false,\\r\\n\\t\\t\\tuseControls: true,\\r\\n\\t\\t\\tfixedControls: \\'fit\\',\\r\\n\\t\\t\\toverlayOptions: {\\r\\n\\t\\t\\topacity: .6,\\r\\n\\t\\t\\tposition: \\'bottom center\\',\\r\\n\\t\\t\\thideOnMouseOut: true}\\r\\n\\t\\t\\t});\\r\\n\\r\\n</script>\\r\\n\\t</head>\\r\\n<body>\\r\\n\\r\\n<table align =\"center\" width=\"760\" cellpadding=\"0\" cellspacing=\"0\"><tr><td>\\r\\n<div id=\"navcontainer\">\\r\\n                        <ul id=\"navlist\">\\r\\n                                <!-- CSS Tabs -->\\r\\n                                \\r\\n<li><a href=\"info.php?maincode=10668\" id=\"current\">ข้อมูลทั่วไป</a></li>\\r\\n<li><a href=\"infopersonal.php?maincode=10668\">ข้อมูลบุคลากร</a></li>\\r\\n<li><a href=\"infospecialty.php?maincode=10668\">แพทย์เฉพาะทาง</a></li>\\r\\n<li><a href=\"infoequip.php?maincode=10668\">สถานที่และเครื่องมือแพทย์</a></li>\\r\\n<li><a href=\"infotype.php?maincode=10668\">ประเภทบริการ</a></li>\\r\\n<li><a href=\"infoservice.php?maincode=10668\">ข้อมูลการให้บริการ</a></li>\\r\\n<li><a href=\"work.php?maincode=10668\">ผลงานเด่น</a></li>\\r\\n<li><a href=\"login.php?maincode=10668\">เข้าสู่ระบบ</a></li>\\r\\n\\r\\n        </ul>\\r\\n                </div>\\r\\n      \\r\\n</td></tr></table>\\r\\n<!--table width=\"761\" align=\"center\" class=\"tableBorder\">\\r\\n<tr>\\r\\n<td width=\"753\"-->\\r\\n<table width=\"650\"  align=\"center\"  bgcolor=\"#FFFFFF\"  cellpadding=\"0\"  cellspacing=\"0\">\\r\\n  <tr>\\r\\n    <td colspan=\"2\" class=\"tdhead650\"  valign=\"middle\">ข้อมูลทั่วไป โรงพยาบาลสุรินทร์</td>\\r\\n  </tr>\\r\\n  <tr>\\r\\n    <td width=\"30%\">&nbsp;</td>\\r\\n    <td width=\"70%\">&nbsp;</td>\\r\\n  </tr>\\r\\n  <tr>\\r\\n    <td align=\"center\" valign=\"top\"> <div class=\"highslide-gallery\"> <a href=\"upload/logo/p_10668_261217_103701.jpg\" class=\"highslide\" onclick=\"return hs.expand(this)\">\\r\\n<img src=\"upload/logo/p_10668_261217_103701.jpg\" alt=\"Highslide JS\"title=\"Click to enlarge\"  width=\"100\" height=\"100\"/></a>\\r\\n<div class=\"highslide-caption\"><center> โรงพยาบาลสุรินทร์</center></div></td>\\r\\n    <td width=\"70%\"  class=\"tdbold\">\\r\\n        <div  > โรงพยาบาลสุรินทร์&nbsp;&nbsp;<a href=\"gmap.php?code=10668\" target=\"_blank\"><img src=\"image_res/2green.png\"  title=\"แสดงในแผนที่\"  border=\"0\"/></a></div><br />\\r\\n        <div>  รหัส  10668</div><br />\\r\\n        <div>ที่อยู่ เลขที่ 68 ถ.หลักเมือง ต.ในเมือง อ.เมือง จ.สุรินทร์ 32000          </div><br />\\r\\n        <div>ที่ตั้ง จ.สุรินทร์ อ.เมืองสุรินทร์ ต.ในเมือง หมู่ 0          </div> \\r\\n    <br>\\r\\n\\r\\n\\r\\n     \\r\\n        <div>โทร. 044-511757&nbsp;&nbsp;  แฟกซ์ 044-514127  </div>\\r\\n<br> \\r\\n\\r\\n     \\r\\n        <div>อีเมล์ -&nbsp;&nbsp;&nbsp;&nbsp;&nbsp;&nbsp;&nbsp;&nbsp;&nbsp;&nbsp;&nbsp;&nbsp;&nbsp;&nbsp;&nbsp;&nbsp;&nbsp;&nbsp;&nbsp;&nbsp;   เว็บไซต์ <a href=\"http://surinhospital.org\"   target=\"_new\" >surinhospital.org</a></div></td>\\r\\n  </tr>\\r\\n  <tr>\\r\\n    <td>&nbsp;</td>\\r\\n    <td></td>\\r\\n  </tr>\\r\\n  <tr>\\r\\n    <td>&nbsp;</td>\\r\\n    <td class=\"trBottom\">ผู้บริหารและประวัติสถานพยาบาล</td>\\r\\n  </tr>\\r\\n  <tr>\\r\\n    <td  align=\"center\"> <div class=\"highslide-gallery\"> <a href=\"upload/ceo/p_10668_261217_103442.jpg\" class=\"highslide\" onclick=\"return hs.expand(this)\">\\r\\n<img src=\"upload/ceo/p_10668_261217_103442.jpg\" alt=\"Highslide JS\"title=\"Click to enlarge\"  width=\"100\" height=\"100\"/></a>\\r\\n<div class=\"highslide-caption\"><center> โรงพยาบาลสุรินทร์</center></div></td>\\r\\n    <td><br ><br />\\r\\n    <div >ชื่อผู้บริหาร <b>&nbsp;นายแพทย์ประวีณ ตัณฑประภา</b></div>\\r\\n    <br />\\r\\n    <div >\\r\\n ประวัติสถานพยาบาล\\r\\n<a href=\"info_history.php?maincode=10668\"  title=\"อ่านประวัติสถานพยาบาล\"><b>เพิ่มเติม</b></a> <p>&nbsp;</p>\\r\\n\\r\\n     \\r\\n    </div>\\r\\n    </td>\\r\\n  </tr>\\r\\n  <tr>\\r\\n    <td>&nbsp;</td>\\r\\n    <td></td>\\r\\n  </tr>\\r\\n  \\r\\n  \\r\\n</table>\\r\\n<table align=\"center\">\\r\\n<tr>\\r\\n<td>\\r\\n<body><div class=\"highslide-gallery\">\\r\\n\\r\\n    \\r\\n    <a href=\"upload/hospital/p_10668_230418_151113.jpg\" class=\"highslide\" onClick=\"return hs.expand(this)\">\\r\\n<img src=\"upload/hospital/p_10668_230418_151113.jpg\" alt=\"Highslide JS\"title=\"Click to enlarge\"  width=\"133\" height=\"100\"/></a>\\r\\n<div class=\"highslide-caption\"><center> โรงพยาบาลสุรินทร์</center></div>\\r\\n        \\r\\n    <a href=\"upload/hospital/p_10668_230418_151121.jpg\" class=\"highslide\" onClick=\"return hs.expand(this)\">\\r\\n<img src=\"upload/hospital/p_10668_230418_151121.jpg\" alt=\"Highslide JS\"title=\"Click to enlarge\"  width=\"133\" height=\"100\"/></a>\\r\\n<div class=\"highslide-caption\"><center> โรงพยาบาลสุรินทร์</center></div>\\r\\n        \\r\\n    <a href=\"upload/hospital/p_10668_230418_151128.jpg\" class=\"highslide\" onClick=\"return hs.expand(this)\">\\r\\n<img src=\"upload/hospital/p_10668_230418_151128.jpg\" alt=\"Highslide JS\"title=\"Click to enlarge\"  width=\"133\" height=\"100\"/></a>\\r\\n<div class=\"highslide-caption\"><center> โรงพยาบาลสุรินทร์</center></div>\\r\\n        \\r\\n    <a href=\"upload/hospital/p_10668_230418_151135.jpg\" class=\"highslide\" onClick=\"return hs.expand(this)\">\\r\\n<img src=\"upload/hospital/p_10668_230418_151135.jpg\" alt=\"Highslide JS\"title=\"Click to enlarge\"  width=\"133\" height=\"100\"/></a>\\r\\n<div class=\"highslide-caption\"><center> โรงพยาบาลสุรินทร์</center></div>\\r\\n    <br>    \\r\\n    <a href=\"upload/hospital/p_10668_230418_151507.jpg\" class=\"highslide\" onClick=\"return hs.expand(this)\">\\r\\n<img src=\"upload/hospital/p_10668_230418_151507.jpg\" alt=\"Highslide JS\"title=\"Click to enlarge\"  width=\"133\" height=\"100\"/></a>\\r\\n<div class=\"highslide-caption\"><center> โรงพยาบาลสุรินทร์</center></div>\\r\\n        \\r\\n    <a href=\"upload/hospital/p_10668_230418_151517.jpg\" class=\"highslide\" onClick=\"return hs.expand(this)\">\\r\\n<img src=\"upload/hospital/p_10668_230418_151517.jpg\" alt=\"Highslide JS\"title=\"Click to enlarge\"  width=\"133\" height=\"100\"/></a>\\r\\n<div class=\"highslide-caption\"><center> โรงพยาบาลสุรินทร์</center></div>\\r\\n    \\r\\n\\r\\n\\r\\n</div>\\r\\n\\r\\n\\r\\n\\r\\n</div>\\r\\n</body>\\r\\n</td>\\r\\n</tr>\\r\\n</table>\\r\\n\\r\\n<table width=\"650\"  align=\"center\"    cellpadding=\"0\"  cellspacing=\"0\">\\r\\n<tr>\\r\\n    <td align=\"right\" class=\"trBottom\">&nbsp;</td>\\r\\n  </tr>\\r\\n  <tr>\\r\\n    <td align=\"right\" >ข้อมูลวันที่ 26 ธ.ค. 2560 19:36</td>\\r\\n  </tr>\\r\\n</table>\\r\\n<!--/td></tr></table-->\\r\\n<table align=\"center\" cellpadding=\"0\" cellspacing=\"0\" width=\"650\">\\r\\n<tr>\\r\\n<td align=\"center\"></td>\\r\\n</tr>\\r\\n</table>\\r\\n<TABLE border =\\'0\\' width =\"650\"  align=\"center\">\\r\\n<tr><td>&nbsp;</td></tr>\\r\\n<TR><TD width =100% align= \"center\"><a href=\"https://play.google.com/store/apps/details?id=com.hiso.hisomap4\" target=\"_blank\"><img src=\"app_android.png\"  alt=\"ดาวน์โหลดได้ที่ Google Play\"/></a><!-- Begin ShinyStat Free code -->\\r\\n<script type=\"text/javascript\" language=\"JavaScript\" src=\"http://codice.shinystat.com/cgi-bin/getcod.cgi?USER=healthHiso\"></script>\\r\\n<noscript>\\r\\n<a href=\"http://www.shinystat.com\" target=\"_top\">\\r\\n<img src=\"http://www.shinystat.com/cgi-bin/shinystat.cgi?USER=healthHiso\" alt=\"Free hit counter\" border=\"0\" /></a>\\r\\n</noscript><a href=\"https://itunes.apple.com/th/app/gis-health/id859027531?mt=8\" target=\"_blank\"><img src=\"app_ios.png\"  alt=\"ดาวน์โหลดได้ที่ App Store\"/></a>\\r\\n</TD><TD></TD></TR>\\r\\n</TABLE>\\r\\n</body>\\r\\n</html>'"
      ]
     },
     "execution_count": 61,
     "metadata": {},
     "output_type": "execute_result"
    }
   ],
   "source": [
    "r.text\n",
    "# see what we get in r.text"
   ]
  },
  {
   "cell_type": "markdown",
   "metadata": {},
   "source": [
    "## ลองใช้ regular expression\n",
    "เข้าไปลองที่นี่ได้เลย https://regex101.com/#python แปะ source code (r.text) เข้าไป สมมติว่าเราต้องการตัวแปรเหล่านี้จากเพจ info.php\n",
    "* ชื่อโรงพยาบาล\n",
    "* ที่อยู่\n",
    "* เบอร์โทรศัพท์\n",
    "\n",
    "(ดูเฉลยได้ที่ https://regex101.com/r/RZz7W7/2)"
   ]
  },
  {
   "cell_type": "code",
   "execution_count": 62,
   "metadata": {
    "collapsed": true
   },
   "outputs": [],
   "source": [
    "import re\n",
    "regex = '<td width=\"70%\"  class=\"tdbold\">\\s+<div  >\\s*([^<&]+).*ที่อยู่\\s+([^<&]+).*โทร.\\s*([0-9๐-๙- ,]+)'"
   ]
  },
  {
   "cell_type": "code",
   "execution_count": 63,
   "metadata": {},
   "outputs": [
    {
     "data": {
      "text/plain": [
       "['โรงพยาบาลสุรินทร์',\n",
       " 'เลขที่ 68 ถ.หลักเมือง ต.ในเมือง อ.เมือง จ.สุรินทร์ 32000          ',\n",
       " '044-511757']"
      ]
     },
     "execution_count": 63,
     "metadata": {},
     "output_type": "execute_result"
    }
   ],
   "source": [
    "# using group...\n",
    "m = re.search(regex, r.text, re.MULTILINE | re.DOTALL)\n",
    "[m.group(1), m.group(2), m.group(3)]"
   ]
  },
  {
   "cell_type": "code",
   "execution_count": 64,
   "metadata": {},
   "outputs": [
    {
     "data": {
      "text/plain": [
       "[('โรงพยาบาลสุรินทร์',\n",
       "  'เลขที่ 68 ถ.หลักเมือง ต.ในเมือง อ.เมือง จ.สุรินทร์ 32000          ',\n",
       "  '044-511757')]"
      ]
     },
     "execution_count": 64,
     "metadata": {},
     "output_type": "execute_result"
    }
   ],
   "source": [
    "re.findall(regex, r.text, re.MULTILINE | re.DOTALL)"
   ]
  },
  {
   "cell_type": "markdown",
   "metadata": {},
   "source": [
    "## ลองสร้าง loop ทั้งหมด\n",
    "ในเมื่อเราไม่รู้ว่ารหัส 5 หลักของ รพ. คืออะไรบ้าง เราก็ loop โลด"
   ]
  },
  {
   "cell_type": "code",
   "execution_count": 65,
   "metadata": {},
   "outputs": [
    {
     "data": {
      "text/plain": [
       "'00089'"
      ]
     },
     "execution_count": 65,
     "metadata": {},
     "output_type": "execute_result"
    }
   ],
   "source": [
    "# test zfill function\n",
    "tmp = 89\n",
    "str(tmp).zfill(5)"
   ]
  },
  {
   "cell_type": "code",
   "execution_count": 77,
   "metadata": {},
   "outputs": [
    {
     "name": "stdout",
     "output_type": "stream",
     "text": [
      "[('สำนักงานสาธารณสุขจังหวัดสมุทรปราการ', '19 ซอย 35 อัศวนนท์ 2 ถ.สุขุมวิท ต.ปากน้ำ อ.เมือง จ.สมุทรปราการ 10270          ', '02-3895980')]\n",
      "[('สำนักงานสาธารณสุขจังหวัดนนทบุรี', 'ศูนย์ราชการจังหวัดนนทบุรี ม.8 ถ.รัตนาธิเบศร์ ต.บางกระสอ อ.เมือง จ.นนทบุรี  11000          ', '02 9503071-6')]\n",
      "[('สำนักงานสาธารณสุขจังหวัดปทุมธานี', '๑๔ ถนนรัฐอำนวย ตำบลบางปรอก อำเภอเมืองปทุมธานี          ', '๐ ๒๕๘๑ ๖๔๕๔ ')]\n",
      "[('สำนักงานสาธารณสุขจังหวัดพระนครศรีอยุธยา', 'ค 130 ถนนอู่ทอง ต.หอรัตนไชย          ', '035-241520')]\n",
      "[('สำนักงานสาธารณสุขจังหวัดอ่างทอง', '122 ม.4 ถ.โพธิ์พระยา-ท่าเรือ  ต.บ้านอิฐ อ.เมือง จ.อ่างทอง          ', '035-611222 ')]\n"
     ]
    }
   ],
   "source": [
    "regex = '<td width=\"70%\"  class=\"tdbold\">\\s+<div  >\\s*([^<&]+).*ที่อยู่\\s+([^<&]+).*โทร.\\s*([0-9๐-๙- ,]+)'\n",
    "for i in range(1, 6):\n",
    "    r = requests.get('http://gishealth.moph.go.th/healthmap/info.php?maincode=' + str(i).zfill(5))\n",
    "    print(re.findall(regex, r.text, re.MULTILINE | re.DOTALL))"
   ]
  },
  {
   "cell_type": "markdown",
   "metadata": {},
   "source": [
    "## Putting it all together"
   ]
  },
  {
   "cell_type": "code",
   "execution_count": 110,
   "metadata": {
    "collapsed": true
   },
   "outputs": [],
   "source": [
    "import requests\n",
    "import re\n",
    "import csv\n",
    "\n",
    "with open('hospital.csv', 'w', newline='', encoding='utf-8-sig') as csvfile:\n",
    "    csvwriter = csv.writer(csvfile, quoting=csv.QUOTE_ALL)\n",
    "    regex = '<td width=\"70%\"  class=\"tdbold\">\\s+<div  >\\s*([^<&]+).*ที่อยู่\\s+([^<&]+).*โทร.\\s*([0-9๐-๙- ,]+)'\n",
    "    for i in range(1, 6):\n",
    "        r = requests.get('http://gishealth.moph.go.th/healthmap/info.php?maincode=' + str(i).zfill(5))\n",
    "        m = re.search(regex, r.text, re.MULTILINE | re.DOTALL)\n",
    "        #m = re.findall(regex, r.text, re.MULTILINE | re.DOTALL)\n",
    "        csvwriter.writerow([str(i).zfill(5), m.group(1).strip(), m.group(2).strip(), m.group(3).strip()])"
   ]
  },
  {
   "cell_type": "markdown",
   "metadata": {},
   "source": [
    "ถึงตอนนี้ เราก็แค่ให้ loop รันตั้งแต่ 1 ถึง 99,999 ก็เสร็จแล้ว! แต่กว่าจะได้ยังงั้นก็อาจจะแก่ตายก่อน คอขวดหลักที่ทำให้ช้า มีอยู่สองที่\n",
    "1. ตอน requests.get ต้องรอ response จาก server\n",
    "2. การเขียนไฟล์หลาย ๆ รอบ\n",
    "\n",
    "อันที่ 2 เป็นปัญหาไม่ใหญ่มาก ไว้ค่อยแก้ทีหลังละกัน (แป่ว)... อันที่ 1 เป็นปัญหาหลักของเรา ซึ่งแก้ได้ด้วยการ thread หรือพูดง่าย ๆ ว่า run script หลาย ๆ รอบนั่นเอง เช่น thread แรก ให้หา รพ. ตั้งแต่เลข 1 ถึง 10,000 ฯลฯ ซึ่งจะเขียน `hospital_1.py`, `hospital_2.py`, ... ก็ได้ หรือถ้าขี้เกียจ ก็น่าจะเขียนให้ script รับ parameter ได้ ว่าจะรันตั้งแต่เท่าไหร่ถึงเท่าไหร่ (แล้วก็ต้องบอก output file ด้วยเนอะ ไม่งั้นก็เขียนทับกัน)\n",
    "\n",
    "เปิดไฟล์ใหม่ code ตามด้านล่าง ก็เขียน\n",
    "```\n",
    "$ python hospital.py 1 100 out_1.csv\n",
    "```\n",
    "ได้เลย"
   ]
  },
  {
   "cell_type": "markdown",
   "metadata": {},
   "source": [
    "```python\n",
    "import requests\n",
    "import re\n",
    "import csv\n",
    "import sys\n",
    "\n",
    "with open(sys.argv[3], 'w', newline='', encoding='utf-8-sig') as csvfile:\n",
    "    csvwriter = csv.writer(csvfile, quoting=csv.QUOTE_ALL)\n",
    "    regex = '<td width=\"70%\"  class=\"tdbold\">\\s+<div  >\\s*([^<&]+).*ที่อยู่\\s+([^<&]+).*โทร.\\s*([0-9๐-๙- ,]+)'\n",
    "    for i in range(int(sys.argv[1]), int(sys.argv[2]) + 1):\n",
    "        r = requests.get('http://gishealth.moph.go.th/healthmap/info.php?maincode=' + str(i).zfill(5))\n",
    "        m = re.search(regex, r.text, re.MULTILINE | re.DOTALL)\n",
    "        #m = re.findall(regex, r.text, re.MULTILINE | re.DOTALL)\n",
    "        csvwriter.writerow([str(i).zfill(5), m.group(1).strip(), m.group(2).strip(), m.group(3).strip()])\n",
    "```"
   ]
  },
  {
   "cell_type": "markdown",
   "metadata": {},
   "source": [
    "จบบทเรียนที่ 1 แล้ววววว!!!"
   ]
  }
 ],
 "metadata": {
  "kernelspec": {
   "display_name": "Python 3",
   "language": "python",
   "name": "python3"
  },
  "language_info": {
   "codemirror_mode": {
    "name": "ipython",
    "version": 3
   },
   "file_extension": ".py",
   "mimetype": "text/x-python",
   "name": "python",
   "nbconvert_exporter": "python",
   "pygments_lexer": "ipython3",
   "version": "3.6.3"
  }
 },
 "nbformat": 4,
 "nbformat_minor": 2
}
